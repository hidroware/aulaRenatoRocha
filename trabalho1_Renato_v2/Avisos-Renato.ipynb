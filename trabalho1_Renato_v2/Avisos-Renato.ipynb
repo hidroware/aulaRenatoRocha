{
 "cells": [
  {
   "cell_type": "markdown",
   "metadata": {},
   "source": [
    "# Avaliação\n",
    "\n",
    "Caros alunos,\n",
    "\n",
    "A avaliação da disciplina será feita através das atividades propostas. Mais especificamente:\n",
    "\n",
    "    Criação do repositório no GitHub (5 pt)\n",
    "    Preparação do notebook de processamento de textos e modelagem de tópicos com corpus próprio a ser escolhido (e tratado), tendo como exemplo este notebook e este notebook. (35 pt)\n",
    "    Projeto final de word embeddings com o corpus escolhido segundo este notebook (50 pt)\n",
    "    Resenha de auto-avaliação e avaliação da disciplina (10 pt)\n",
    "\n",
    "As leituras serao indicadas a cada semana. Sucesso! Renato\n",
    "Última atualização: quinta, 31 Out 2019, 05:54\n",
    "\n",
    "\n",
    "\n",
    "# Atividade de Processamento de Textos\n",
    "\n",
    "Caros alunos,\n",
    "\n",
    "Acredito que se estiverem seguindo minhas instrucoes, já têm uma nocao de como fazer processamento básico de textos usando Python. Caso tenham duvidas, peco que me escrevam para que possamos saná-las, mas eu assumo que estao acompanhando o material.\n",
    "\n",
    "Nesta semana, e ao longo da proxima, gostaria que iniciassem nossa primeira atividade prática a ser avaliada: \n",
    "\n",
    "- Criem repositório do Github para esta disciplina \n",
    "\n",
    "- Escolham um corpus de textos para realizar as atividades (podem ser textos de teses, dissertacoes, notícias, tweets). No repositório da disciplina há exemplos para de códigos para o processamento. Recomendo o pacote Textract para buscar textos de arquivos PDFs e outros formatos \n",
    "\n",
    "- Gostaria que fizessem uma caracterizacao basica do corpus, processando cada arquivo e apresentando os termos mais frequentes, bigramas, trigramas e depois realizassem uma modelagem de topicos segundo este exemplo \n",
    "\n",
    "- Gostaria de ter, até o dia 10/11, os links para os notebooks em vossos repositórios. \n",
    "\n",
    "- O trabalho é individual, mas incentivo que trabalhem (individualmente) em grupos, para sanar dúvidas e trocar ideias sobre os corpora e os problemas que podem encontrar. - Caso haja alguma dúvida adicional nao trivial, me escrevam.\n",
    "Última atualização: terça, 29 Out 2019, 10:09"
   ]
  },
  {
   "cell_type": "code",
   "execution_count": null,
   "metadata": {},
   "outputs": [],
   "source": []
  }
 ],
 "metadata": {
  "kernelspec": {
   "display_name": "Python 3",
   "language": "python",
   "name": "python3"
  },
  "language_info": {
   "codemirror_mode": {
    "name": "ipython",
    "version": 3
   },
   "file_extension": ".py",
   "mimetype": "text/x-python",
   "name": "python",
   "nbconvert_exporter": "python",
   "pygments_lexer": "ipython3",
   "version": "3.7.4"
  }
 },
 "nbformat": 4,
 "nbformat_minor": 2
}
